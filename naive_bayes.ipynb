{
 "cells": [
  {
   "cell_type": "markdown",
   "metadata": {},
   "source": [
    "# Naive Bayes "
   ]
  },
  {
   "cell_type": "code",
   "execution_count": 9,
   "metadata": {},
   "outputs": [],
   "source": [
    "import pandas as pd\n",
    "import numpy as np"
   ]
  },
  {
   "cell_type": "markdown",
   "metadata": {},
   "source": [
    "## Carga de datos"
   ]
  },
  {
   "cell_type": "markdown",
   "metadata": {},
   "source": [
    "### Iris Plant"
   ]
  },
  {
   "cell_type": "code",
   "execution_count": 10,
   "metadata": {},
   "outputs": [
    {
     "data": {
      "text/plain": [
       "array([[5.1, 3.5, 1.4, 0.2, 'Iris-setosa'],\n",
       "       [4.9, 3.0, 1.4, 0.2, 'Iris-setosa'],\n",
       "       [4.7, 3.2, 1.3, 0.2, 'Iris-setosa'],\n",
       "       [4.6, 3.1, 1.5, 0.2, 'Iris-setosa'],\n",
       "       [5.0, 3.6, 1.4, 0.2, 'Iris-setosa'],\n",
       "       [5.4, 3.9, 1.7, 0.4, 'Iris-setosa'],\n",
       "       [4.6, 3.4, 1.4, 0.3, 'Iris-setosa'],\n",
       "       [5.0, 3.4, 1.5, 0.2, 'Iris-setosa'],\n",
       "       [4.4, 2.9, 1.4, 0.2, 'Iris-setosa'],\n",
       "       [4.9, 3.1, 1.5, 0.1, 'Iris-setosa']], dtype=object)"
      ]
     },
     "execution_count": 10,
     "metadata": {},
     "output_type": "execute_result"
    }
   ],
   "source": [
    "data = pd.read_csv('data/iris.data', header=None).values\n",
    "\n",
    "clm_label = 4 # Obtenemos el indice de la etiqueta\n",
    "clm_chrs = (1, data.shape[1]) if clm_label == 0 else (0, data.shape[1]-1) # Obtener las demás columnas\n",
    "\n",
    "data[:10]"
   ]
  },
  {
   "cell_type": "markdown",
   "metadata": {},
   "source": [
    "### Breast Cancer"
   ]
  },
  {
   "cell_type": "code",
   "execution_count": 13,
   "metadata": {},
   "outputs": [
    {
     "data": {
      "text/plain": [
       "array([['mean_radius', 'mean_texture', 'mean_perimeter', 'mean_area',\n",
       "        'mean_smoothness', 'diagnosis'],\n",
       "       ['17.99', '10.38', '122.8', '1001.0', '0.1184', '0'],\n",
       "       ['20.57', '17.77', '132.9', '1326.0', '0.08474', '0'],\n",
       "       ['19.69', '21.25', '130.0', '1203.0', '0.1096', '0'],\n",
       "       ['11.42', '20.38', '77.58', '386.1', '0.1425', '0'],\n",
       "       ['20.29', '14.34', '135.1', '1297.0', '0.1003', '0'],\n",
       "       ['12.45', '15.7', '82.57', '477.1', '0.1278', '0'],\n",
       "       ['18.25', '19.98', '119.6', '1040.0', '0.09463', '0'],\n",
       "       ['13.71', '20.83', '90.2', '577.9', '0.1189', '0'],\n",
       "       ['13.0', '21.82', '87.5', '519.8', '0.1273', '0']], dtype=object)"
      ]
     },
     "execution_count": 13,
     "metadata": {},
     "output_type": "execute_result"
    }
   ],
   "source": [
    "data = pd.read_csv('data/Breast_cancer_data.csv', header=None).values\n",
    "clm_label = 5 # Columna de la etiqueta\n",
    "clm_chrs = (1, data.shape[1]) if clm_label == 0 else (0, data.shape[1]-1) # Obtener las demás columnas\n",
    "data[:10]"
   ]
  },
  {
   "cell_type": "markdown",
   "metadata": {},
   "source": [
    "### Wine"
   ]
  },
  {
   "cell_type": "code",
   "execution_count": 3,
   "metadata": {},
   "outputs": [
    {
     "data": {
      "text/plain": [
       "array([[1.000e+00, 1.423e+01, 1.710e+00, 2.430e+00, 1.560e+01, 1.270e+02,\n",
       "        2.800e+00, 3.060e+00, 2.800e-01, 2.290e+00, 5.640e+00, 1.040e+00,\n",
       "        3.920e+00, 1.065e+03],\n",
       "       [1.000e+00, 1.320e+01, 1.780e+00, 2.140e+00, 1.120e+01, 1.000e+02,\n",
       "        2.650e+00, 2.760e+00, 2.600e-01, 1.280e+00, 4.380e+00, 1.050e+00,\n",
       "        3.400e+00, 1.050e+03],\n",
       "       [1.000e+00, 1.316e+01, 2.360e+00, 2.670e+00, 1.860e+01, 1.010e+02,\n",
       "        2.800e+00, 3.240e+00, 3.000e-01, 2.810e+00, 5.680e+00, 1.030e+00,\n",
       "        3.170e+00, 1.185e+03],\n",
       "       [1.000e+00, 1.437e+01, 1.950e+00, 2.500e+00, 1.680e+01, 1.130e+02,\n",
       "        3.850e+00, 3.490e+00, 2.400e-01, 2.180e+00, 7.800e+00, 8.600e-01,\n",
       "        3.450e+00, 1.480e+03],\n",
       "       [1.000e+00, 1.324e+01, 2.590e+00, 2.870e+00, 2.100e+01, 1.180e+02,\n",
       "        2.800e+00, 2.690e+00, 3.900e-01, 1.820e+00, 4.320e+00, 1.040e+00,\n",
       "        2.930e+00, 7.350e+02]])"
      ]
     },
     "execution_count": 3,
     "metadata": {},
     "output_type": "execute_result"
    }
   ],
   "source": [
    "data = pd.read_csv('data/wine.data', header=None).values\n",
    "clm_label = 0\n",
    "clm_chrs = (1, data.shape[1]) if clm_label == 0 else (0, data.shape[1]-1) # Obtener las demás columnas\n",
    "data[:5]"
   ]
  },
  {
   "cell_type": "markdown",
   "metadata": {},
   "source": [
    "## Fórmula"
   ]
  },
  {
   "cell_type": "markdown",
   "metadata": {},
   "source": [
    "$X = (x_0, x_1, x_2, ..., x_n)$ Donde $X$ son las características"
   ]
  },
  {
   "cell_type": "markdown",
   "metadata": {},
   "source": [
    "$Y \\in \\lbrace 0,1 \\rbrace$ Donde $Y$ son las clases"
   ]
  },
  {
   "cell_type": "markdown",
   "metadata": {},
   "source": [
    "### Teorema de Bayes\n",
    "$P(Y|X) = \\frac{P(X = x_0, x_1, x_2 | Y = y)P(Y = y)}{P(X)}$"
   ]
  },
  {
   "cell_type": "markdown",
   "metadata": {},
   "source": [
    "##### Calcular $P(Y = y)$ para todas las clases - prior"
   ]
  },
  {
   "cell_type": "code",
   "execution_count": 11,
   "metadata": {},
   "outputs": [],
   "source": [
    "def calculate_prior(ds):\n",
    "    total = sum(map(lambda arr: arr.shape[0], ds))\n",
    "    return [arr.shape[0]/total for arr in ds]"
   ]
  },
  {
   "cell_type": "markdown",
   "metadata": {},
   "source": [
    "### Calcular la distribución normal\n",
    "**Nota:** Hay documentación que proporciona diferentes maneras de realizar el calculo, pero se toma en cuenta la que aparece en las diapositivas presentadas por el profesor."
   ]
  },
  {
   "cell_type": "code",
   "execution_count": 12,
   "metadata": {},
   "outputs": [],
   "source": [
    "def calculate_normal_distribution(feat_val, mean, std):\n",
    "    # p_x_given_y = (1 / (np.sqrt(2 * np.pi) * std)) * np.exp(-((feat_val - mean)**2 / (2 * std**2)))\n",
    "    return (1/np.sqrt(2*np.pi*std))*np.exp(-.5*((feat_val-mean)/std)**2)"
   ]
  },
  {
   "cell_type": "markdown",
   "metadata": {},
   "source": [
    "### Calcular $P(X=x_1|Y=y),P(X=x_2|Y=y), …, P(X=x_n|Y=y) * P(Y=y)$ para todos y encontrar el máximo"
   ]
  },
  {
   "cell_type": "code",
   "execution_count": 13,
   "metadata": {},
   "outputs": [],
   "source": [
    "def naive_bayes(ds, c_set):\n",
    "    # Calcular probabilidad a priori\n",
    "    prior = calculate_prior(ds)\n",
    "\n",
    "    measures = []\n",
    "    for cl in ds:\n",
    "        m = []\n",
    "        for i in range(clm_chrs[0], clm_chrs[1]):\n",
    "            m.append({'mean': cl[:, i].mean(), 'std': cl[:, i].std()})\n",
    "        measures.append(m)\n",
    "\n",
    "    accuracies = []\n",
    "    for i, cl in enumerate(c_set):\n",
    "        accuracy = 0\n",
    "        for e in cl:\n",
    "            likelihood = [1] * len(c_set)\n",
    "            for im, m in enumerate(measures):\n",
    "                for j, ch in enumerate(e[clm_chrs[0]:clm_chrs[1]]):\n",
    "                    likelihood[im] *= (1/np.sqrt(2*np.pi*m[j]['std']))*np.exp(-.5*((ch-m[j]['mean'])/m[j]['std'])**2)\n",
    "                likelihood[im] *= prior[im]\n",
    "            if np.argmax(likelihood) == i:\n",
    "                accuracy += 1\n",
    "        accuracies.append(accuracy)\n",
    "\n",
    "    return np.array(accuracies)"
   ]
  },
  {
   "cell_type": "markdown",
   "metadata": {},
   "source": [
    "### Subdividir el modelo"
   ]
  },
  {
   "cell_type": "code",
   "execution_count": 15,
   "metadata": {},
   "outputs": [],
   "source": [
    "def get_subarrs_from_dataset(array):\n",
    "    l = []\n",
    "    c = 0\n",
    "    for i, e in enumerate(array):\n",
    "        if e[clm_label] != array[c][clm_label]:\n",
    "            l.append(data[c:i])\n",
    "            c = i\n",
    "    l.append(data[c:i+1])\n",
    "\n",
    "    return np.array(l)"
   ]
  },
  {
   "cell_type": "markdown",
   "metadata": {},
   "source": [
    "### Entrenamiento y prueba"
   ]
  },
  {
   "cell_type": "code",
   "execution_count": 16,
   "metadata": {},
   "outputs": [],
   "source": [
    "from functools import reduce\n",
    "from sklearn.model_selection import train_test_split\n",
    "\n",
    "subarrs = get_subarrs_from_dataset(data)\n",
    "\n",
    "train, test = [], []\n",
    "for arr in subarrs:\n",
    "    tr, te = train_test_split(arr, test_size=.2, random_state=50)\n",
    "    train.append(tr)\n",
    "    test.append(te)\n",
    "train = np.array(train)\n",
    "test = np.array(test)\n",
    "del subarrs, arr, tr, te\n",
    "\n",
    "# .:Resultados:.\n",
    "# Entrenamiento\n",
    "acc_train = naive_bayes(train, train)\n",
    "# print('Resultados con el subconjunto de entrenamiento')\n",
    "# for t in range(train.shape[0]):\n",
    "#     print(f'· Clase \\'{train[t][0][clm_label]}\\': {accuracy[t]}/{train[t].shape[0]}')\n",
    "# print(f'Exactitud: {100*sum(accuracy)/sum(map(lambda e: e.shape[0], train)):.2f}%')\n",
    "\n",
    "# Prueba\n",
    "acc_test = naive_bayes(train, test)\n",
    "# print('\\nResultados con el subjuntunto de prueba')\n",
    "# for t in range(test.shape[0]):\n",
    "#     print(f'· Clase \\'{test[t][0][clm_label]}\\': {accuracy[t]}/{train[t].shape[0]}')\n",
    "# print(f'Exactitud: {100*sum(accuracy)/sum(map(lambda e: e.shape[0], test)):.2f}%')\n",
    "# pass"
   ]
  },
  {
   "cell_type": "markdown",
   "metadata": {},
   "source": [
    "### Muestra de resultados"
   ]
  },
  {
   "cell_type": "code",
   "execution_count": 17,
   "metadata": {},
   "outputs": [],
   "source": [
    "def show_results(ds, accuracy, clm_label, ds_name):\n",
    "    print('\\nResultados con el subjuntunto de', ds_name)\n",
    "    for t in range(ds.shape[0]):\n",
    "        print(f'- Clase \\'{ds[t][0][clm_label]}\\': {accuracy[t]}/{train[t].shape[0]}')\n",
    "    print(f'Exactitud: {100*sum(accuracy)/sum(map(lambda e: e.shape[0], ds)):.2f}%')"
   ]
  },
  {
   "cell_type": "code",
   "execution_count": 18,
   "metadata": {},
   "outputs": [
    {
     "name": "stdout",
     "output_type": "stream",
     "text": [
      "\n",
      "Resultados con el subjuntunto de entrenamiento\n",
      "- Clase 'Iris-setosa': 40/40\n",
      "- Clase 'Iris-versicolor': 36/40\n",
      "- Clase 'Iris-virginica': 37/40\n",
      "Exactitud: 94.17%\n",
      "\n",
      "Resultados con el subjuntunto de prueba\n",
      "- Clase 'Iris-setosa': 10/40\n",
      "- Clase 'Iris-versicolor': 10/40\n",
      "- Clase 'Iris-virginica': 9/40\n",
      "Exactitud: 96.67%\n"
     ]
    }
   ],
   "source": [
    "show_results(train, acc_train, clm_label, 'entrenamiento')\n",
    "show_results(test, acc_test, clm_label, 'prueba')"
   ]
  }
 ],
 "metadata": {
  "interpreter": {
   "hash": "92a8af21396c29bf7db0cebd5807e12a9886fe430185c14d9ecb3bb7194720d4"
  },
  "kernelspec": {
   "display_name": "Python 3.9.10 ('env': venv)",
   "language": "python",
   "name": "python3"
  },
  "language_info": {
   "codemirror_mode": {
    "name": "ipython",
    "version": 3
   },
   "file_extension": ".py",
   "mimetype": "text/x-python",
   "name": "python",
   "nbconvert_exporter": "python",
   "pygments_lexer": "ipython3",
   "version": "3.9.16"
  },
  "orig_nbformat": 4
 },
 "nbformat": 4,
 "nbformat_minor": 2
}
